{
 "cells": [
  {
   "cell_type": "code",
   "execution_count": 24,
   "metadata": {},
   "outputs": [
    {
     "name": "stdout",
     "output_type": "stream",
     "text": [
      "连接数据库成功!\n",
      "t_qx 创建成功\n"
     ]
    }
   ],
   "source": [
    "import pymysql\n",
    "\n",
    "def connect(**kwargs):\n",
    "    global db  # 提升为全局变量\n",
    "    db = pymysql.Connect(**kwargs)\n",
    "    print('连接数据库成功!')\n",
    "\n",
    "def save(id,name,age):\n",
    "    pass\n",
    "\n",
    "def create_table(table_name, *args):\n",
    "    cursor = db.cursor()  # 打开数据库的游标\n",
    "    columns = ('%s,'*len(args))[:-1]\n",
    "    args = (table_name, *args)\n",
    "    sql = \"create table %s(\"+columns+\")\"\n",
    "    cursor.execute(sql % args)\n",
    "    print('%s 创建成功' % table_name)\n",
    "    \n",
    "\n",
    "def query(**kwargs):\n",
    "    # 可以依据： id, name\n",
    "    pass\n",
    "\n",
    "db_config = {\n",
    "    'host': '127.0.0.1',\n",
    "    'port': 3306,\n",
    "    'user':'root',\n",
    "    'password':'root',\n",
    "    'db':'xa_py3',\n",
    "    'charset':'utf8'\n",
    "}\n",
    "connect(**db_config)  # 提取字典的数据，转成key=value\n",
    "create_table('t_qx', 'id int', 'title varchar(20)')"
   ]
  },
  {
   "cell_type": "code",
   "execution_count": 25,
   "metadata": {
    "collapsed": true
   },
   "outputs": [],
   "source": [
    "def fx(a):\n",
    "    fx.a += a  # fx.a 是函数fx对象的属性\n",
    "    print(fx.a)"
   ]
  },
  {
   "cell_type": "code",
   "execution_count": 27,
   "metadata": {},
   "outputs": [
    {
     "name": "stdout",
     "output_type": "stream",
     "text": [
      "220\n"
     ]
    },
    {
     "data": {
      "text/plain": [
       "function"
      ]
     },
     "execution_count": 27,
     "metadata": {},
     "output_type": "execute_result"
    }
   ],
   "source": [
    "fx.a = 120\n",
    "fx(100)\n",
    "type(fx)"
   ]
  },
  {
   "cell_type": "code",
   "execution_count": 30,
   "metadata": {},
   "outputs": [
    {
     "name": "stdout",
     "output_type": "stream",
     "text": [
      "--A---\n",
      "--AA---\n",
      "连接数据库成功!\n",
      "main 用时 0.0027 秒\n"
     ]
    }
   ],
   "source": [
    "# 无参的装饰函数\n",
    "import time\n",
    "\n",
    "def test_runtime(fun):\n",
    "    print('--A---')\n",
    "    def wrapper(*args, **kwargs):\n",
    "        # 计算函数运行的时间\n",
    "        print('--AA---')\n",
    "        start_time = time.time()\n",
    "        result = fun(*args, **kwargs)\n",
    "        used_time = time.time()-start_time\n",
    "        print('%s 用时 %.4f 秒' % (fun.__name__, used_time))\n",
    "        return result\n",
    "    \n",
    "    return wrapper\n",
    "\n",
    "@test_runtime\n",
    "def main():\n",
    "    connect(**db_config)\n",
    "\n",
    "main()"
   ]
  },
  {
   "cell_type": "code",
   "execution_count": 37,
   "metadata": {},
   "outputs": [
    {
     "name": "stdout",
     "output_type": "stream",
     "text": [
      "--A--\n",
      "--B--\n",
      "---C--\n",
      "－－无此权限－－\n"
     ]
    }
   ],
   "source": [
    "# 有参数的装饰函数\n",
    "rights = {'QX_ADD': 1,\n",
    "          'QX_EDIT': 2,\n",
    "          'QX_DEL': 4}\n",
    "\n",
    "user_qx = 6  # 当前用户的权限\n",
    "\n",
    "def check_qx(qx_name):\n",
    "    print('--A--')\n",
    "    def wrapper1(fun):\n",
    "        print('--B--')\n",
    "        def wrapper2(*args, **kwargs):\n",
    "            print('---C--')\n",
    "            # 判断当前用户的权限是否具有qx_name \n",
    "            qx_right = rights.get(qx_name)\n",
    "            if all((qx_right, user_qx & qx_right == qx_right)):\n",
    "                # 有权限\n",
    "                result = fun(*args, **kwargs)\n",
    "                return result\n",
    "            else:\n",
    "                print('－－无此权限－－')\n",
    "        \n",
    "        return wrapper2\n",
    "    \n",
    "    return wrapper1\n",
    "\n",
    "\n",
    "@check_qx('QX_ADD')  # 检查当前用户是否拥有add权限\n",
    "def add(id, title):\n",
    "    connect(**db_config)\n",
    "    cursor = db.cursor()\n",
    "    cursor.execute('insert t_qx(id,title) values(%s,%s)',\n",
    "                   (id, title))\n",
    "    db.commit() # 提交\n",
    "    print('增加 t_qx 成功!')\n",
    "    \n",
    "add(2, '修改')"
   ]
  },
  {
   "cell_type": "code",
   "execution_count": 41,
   "metadata": {},
   "outputs": [
    {
     "name": "stdout",
     "output_type": "stream",
     "text": [
      "--AA---\n",
      "连接数据库成功!\n",
      "main 用时 0.0031 秒\n"
     ]
    }
   ],
   "source": [
    "# 无参的装饰器类\n",
    "import time\n",
    "\n",
    "class TestRuntime():\n",
    "    def __init__(self, fun):\n",
    "        self.fun = fun\n",
    "        \n",
    "    def __call__(self, *args, **kwargs):\n",
    "         # 计算函数运行的时间\n",
    "        start_time = time.time()\n",
    "        result = self.fun(*args, **kwargs)\n",
    "        used_time = time.time()-start_time\n",
    "        print('%s 用时 %.4f 秒' % (self.fun.__name__, used_time))\n",
    "        return result\n",
    "\n",
    "\n",
    "@TestRuntime\n",
    "def main():\n",
    "    connect(**db_config)\n",
    "\n",
    "main()"
   ]
  },
  {
   "cell_type": "code",
   "execution_count": 43,
   "metadata": {},
   "outputs": [
    {
     "name": "stdout",
     "output_type": "stream",
     "text": [
      "连接数据库成功!\n",
      "增加 t_qx 成功!\n"
     ]
    }
   ],
   "source": [
    "class CheckQX():\n",
    "    def __init__(self, qx_name):\n",
    "        self.qx_name = qx_name\n",
    "        \n",
    "    # __call__ 在当前类的实例对象作为函数被调用时，会调用__call__函数\n",
    "    def __call__(self, fun):\n",
    "        def wrapper(*args, **kwargs):\n",
    "            # 判断当前用户的权限是否具有qx_name \n",
    "            qx_right = rights.get(self.qx_name)\n",
    "            if all((qx_right, user_qx & qx_right == qx_right)):\n",
    "                # 有权限\n",
    "                result = fun(*args, **kwargs)\n",
    "                return result\n",
    "            else:\n",
    "                print('－－无此权限－－')\n",
    "                \n",
    "        return wrapper\n",
    "\n",
    "\n",
    "@CheckQX('QX_ADD')  # 检查当前用户是否拥有add权限\n",
    "def add(id, title):\n",
    "    connect(**db_config)\n",
    "    cursor = db.cursor()\n",
    "    cursor.execute('insert t_qx(id,title) values(%s,%s)',\n",
    "                   (id, title))\n",
    "    db.commit() # 提交\n",
    "    print('增加 t_qx 成功!')\n",
    "\n",
    "user_qx = 3  # 当前用户的权限\n",
    "add(3, '删除')"
   ]
  },
  {
   "cell_type": "code",
   "execution_count": 44,
   "metadata": {},
   "outputs": [
    {
     "name": "stdout",
     "output_type": "stream",
     "text": [
      "当前人员的姓名 Disen\n"
     ]
    }
   ],
   "source": [
    "class Person():\n",
    "    def __init__(self, name):\n",
    "        self.name = name\n",
    "    \n",
    "    def __call__(self):\n",
    "        print('当前人员的姓名',self.name)\n",
    "        \n",
    "p = Person('Disen')\n",
    "p()  # 实例对象当作函数被调用"
   ]
  },
  {
   "cell_type": "code",
   "execution_count": 48,
   "metadata": {},
   "outputs": [
    {
     "name": "stdout",
     "output_type": "stream",
     "text": [
      "(1, '查询')\n",
      "(3, '删除')\n"
     ]
    }
   ],
   "source": [
    "# 扩展 python上下文 context\n",
    "class DB():\n",
    "    def __init__(self, **kwargs):\n",
    "        self.host = kwargs.get('host')\n",
    "        self.port = kwargs.get('port')\n",
    "        self.db = kwargs.get('db')\n",
    "        self.user = kwargs.get('user')\n",
    "        self.password = kwargs.get('password')\n",
    "        self.charset = kwargs.get('charset')\n",
    "    \n",
    "    def __enter__(self):\n",
    "        # 打开连接连接\n",
    "        self.db = pymysql.Connect(host=self.host,\n",
    "                                  port=self.port,\n",
    "                                  db=self.db,\n",
    "                                  user=self.user,\n",
    "                                  password=self.password,\n",
    "                                  charset=self.charset)\n",
    "        \n",
    "    def __exit__(self, exc_type, exc_val, exc_tb):\n",
    "        self.db.close()  # 关闭数据连接\n",
    "        \n",
    "    def query(self):\n",
    "        cursor = self.db.cursor()\n",
    "        cursor.execute('select * from t_qx')\n",
    "        for row in cursor.fetchall():\n",
    "            print(row)\n",
    "            \n",
    "db_ = DB(**db_config)\n",
    "with db_ :  # 当进入上下文时，调用db_的__enter__函数\n",
    "    if db_:\n",
    "        db_.query()\n",
    "    \n",
    "# 退出上下文时， 调用db_的__exit__函数\n"
   ]
  }
 ],
 "metadata": {
  "kernelspec": {
   "display_name": "Python 3",
   "language": "python",
   "name": "python3"
  },
  "language_info": {
   "codemirror_mode": {
    "name": "ipython",
    "version": 3
   },
   "file_extension": ".py",
   "mimetype": "text/x-python",
   "name": "python",
   "nbconvert_exporter": "python",
   "pygments_lexer": "ipython3",
   "version": "3.6.3"
  }
 },
 "nbformat": 4,
 "nbformat_minor": 2
}
